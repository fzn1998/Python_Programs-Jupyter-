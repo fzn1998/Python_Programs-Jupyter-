{
 "cells": [
  {
   "cell_type": "code",
   "execution_count": 1,
   "metadata": {},
   "outputs": [],
   "source": [
    "def hourglassSum(arr):\n",
    "        s=[0]*16\n",
    "        l=0\n",
    "        for i in range(2,6):\n",
    "            for j in range(2,6):\n",
    "                s[l]=(arr[i-2][j-2]+arr[i-2][j-1]+arr[i-2][j]+arr[i-1][j-1]+arr[i][j-2]+arr[i][j-1]+arr[i][j])\n",
    "                print(s[l])\n",
    "                l+=1\n",
    "        \n",
    "        \n",
    "        maxi=s[0]\n",
    "        n=len(s)\n",
    "        for i in range(1, n): \n",
    "               if s[i] > maxi: \n",
    "                    maxi = s[i] \n",
    "        return maxi   \n",
    "             "
   ]
  },
  {
   "cell_type": "code",
   "execution_count": 2,
   "metadata": {},
   "outputs": [
    {
     "name": "stdout",
     "output_type": "stream",
     "text": [
      "0 -4 -6 0 -7 -6 \n",
      "-1 -2 -6 -8 -3 -1 \n",
      "-8 -4 -2 -8 -8 -6 \n",
      "-3 -1 -2 -5 -7 -4 \n",
      "-3 -5 -3 -6 -6 -6 \n",
      "-3 -6 0 -8 -6 -7 \n"
     ]
    }
   ],
   "source": [
    "from array import *\n",
    "arr=[[0,-4,-6,0,-7,-6], [-1,-2,-6,-8,-3,-1],[-8,-4,-2,-8,-8,-6],[-3,-1,-2,-5,-7,-4],[-3,-5,-3,-6,-6,-6],[-3,-6,0,-8,-6,-7]] \n",
    "for r in arr:\n",
    "    for c in r:\n",
    "        print(c,end = \" \")\n",
    "    print()"
   ]
  },
  {
   "cell_type": "code",
   "execution_count": 3,
   "metadata": {},
   "outputs": [
    {
     "name": "stdout",
     "output_type": "stream",
     "text": [
      "-26\n",
      "-30\n",
      "-39\n",
      "-38\n",
      "-19\n",
      "-26\n",
      "-39\n",
      "-36\n",
      "-26\n",
      "-30\n",
      "-38\n",
      "-47\n",
      "-20\n",
      "-25\n",
      "-34\n",
      "-43\n"
     ]
    }
   ],
   "source": [
    "result=hourglassSum(arr)"
   ]
  },
  {
   "cell_type": "code",
   "execution_count": null,
   "metadata": {},
   "outputs": [],
   "source": []
  },
  {
   "cell_type": "code",
   "execution_count": null,
   "metadata": {},
   "outputs": [],
   "source": []
  }
 ],
 "metadata": {
  "kernelspec": {
   "display_name": "Python 3",
   "language": "python",
   "name": "python3"
  },
  "language_info": {
   "codemirror_mode": {
    "name": "ipython",
    "version": 3
   },
   "file_extension": ".py",
   "mimetype": "text/x-python",
   "name": "python",
   "nbconvert_exporter": "python",
   "pygments_lexer": "ipython3",
   "version": "3.7.4"
  }
 },
 "nbformat": 4,
 "nbformat_minor": 4
}
