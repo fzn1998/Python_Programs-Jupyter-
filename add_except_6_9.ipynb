{
 "cells": [
  {
   "cell_type": "code",
   "execution_count": 3,
   "metadata": {},
   "outputs": [],
   "source": [
    "def num_69(num):\n",
    "    \n",
    "    total=0\n",
    "    add =True\n",
    "    \n",
    "    for i in num:\n",
    "        while add:\n",
    "            if i!= 6:\n",
    "                total+=i\n",
    "                break\n",
    "            else:\n",
    "                add=False   \n",
    "        while not add:\n",
    "            if i!=9:\n",
    "                break\n",
    "            else:\n",
    "                add= True\n",
    "       \n",
    "        \n",
    "    return total      "
   ]
  },
  {
   "cell_type": "code",
   "execution_count": 4,
   "metadata": {},
   "outputs": [
    {
     "data": {
      "text/plain": [
       "3"
      ]
     },
     "execution_count": 4,
     "metadata": {},
     "output_type": "execute_result"
    }
   ],
   "source": [
    "num_69([1,2,6,4,9])"
   ]
  },
  {
   "cell_type": "code",
   "execution_count": null,
   "metadata": {},
   "outputs": [],
   "source": []
  },
  {
   "cell_type": "code",
   "execution_count": null,
   "metadata": {},
   "outputs": [],
   "source": []
  }
 ],
 "metadata": {
  "kernelspec": {
   "display_name": "Python 3",
   "language": "python",
   "name": "python3"
  },
  "language_info": {
   "codemirror_mode": {
    "name": "ipython",
    "version": 3
   },
   "file_extension": ".py",
   "mimetype": "text/x-python",
   "name": "python",
   "nbconvert_exporter": "python",
   "pygments_lexer": "ipython3",
   "version": "3.7.4"
  }
 },
 "nbformat": 4,
 "nbformat_minor": 4
}
