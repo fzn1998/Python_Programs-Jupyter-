{
 "cells": [
  {
   "cell_type": "code",
   "execution_count": 4,
   "metadata": {},
   "outputs": [
    {
     "name": "stdout",
     "output_type": "stream",
     "text": [
      "it\n",
      "ep\n"
     ]
    }
   ],
   "source": [
    "def fun(lists,index):\n",
    "    try:\n",
    "        output=[0]*len(lists)\n",
    "        output[index]=list[index]/int(lists[index+1])\n",
    "        return output\n",
    "    except ValueError:\n",
    "        print(\"iv\")\n",
    "    except ZeroDivisionError:\n",
    "        print(\"dz\")\n",
    "    finally:(\"ef\")\n",
    "        \n",
    "try:     \n",
    "    list1=[2,4,'6',2,8]\n",
    "    list2=fun(list1,4)\n",
    "except TypeError:\n",
    "    print(\"it\")\n",
    "except IndexError:\n",
    "    print(\"dz\")\n",
    "finally:\n",
    "    print(\"ep\")"
   ]
  },
  {
   "cell_type": "code",
   "execution_count": 2,
   "metadata": {},
   "outputs": [
    {
     "name": "stdout",
     "output_type": "stream",
     "text": [
      "[51, 91, 77, 39]\n"
     ]
    }
   ],
   "source": [
    "list1=[39,91,77,51,33,84]\n",
    "sub_list1=fun(list1[:4])\n",
    "print(sub_list1)"
   ]
  },
  {
   "cell_type": "code",
   "execution_count": null,
   "metadata": {},
   "outputs": [],
   "source": []
  }
 ],
 "metadata": {
  "kernelspec": {
   "display_name": "Python 3",
   "language": "python",
   "name": "python3"
  },
  "language_info": {
   "codemirror_mode": {
    "name": "ipython",
    "version": 3
   },
   "file_extension": ".py",
   "mimetype": "text/x-python",
   "name": "python",
   "nbconvert_exporter": "python",
   "pygments_lexer": "ipython3",
   "version": "3.7.4"
  }
 },
 "nbformat": 4,
 "nbformat_minor": 4
}
