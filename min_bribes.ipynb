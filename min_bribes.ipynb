{
 "cells": [
  {
   "cell_type": "code",
   "execution_count": 6,
   "metadata": {},
   "outputs": [],
   "source": [
    "def minimumBribes(q):\n",
    "    a=[0]*len(q)\n",
    "    for j in range(1,len(q)+1):\n",
    "        a[j-1]=j\n",
    "    count=0\n",
    "    for i in range(0,len(q)-1):\n",
    "            temp=a[i]\n",
    "            if a[i]!=q[i]:\n",
    "                if a[i+1]==q[i]:\n",
    "                    a[i]=a[i+1]\n",
    "                    a[i+1]=temp\n",
    "                    count+=1\n",
    "                elif a[i+2]==q[i]:\n",
    "                    a[i]=a[i+2]\n",
    "                    a[i+2]=a[i+1]\n",
    "                    a[i+1]=temp\n",
    "                    count+=2\n",
    "                else:\n",
    "                    break\n",
    "    if a==q:\n",
    "        print (count)\n",
    "    else:\n",
    "        print(\"Too chaotic\")"
   ]
  },
  {
   "cell_type": "code",
   "execution_count": 8,
   "metadata": {},
   "outputs": [
    {
     "name": "stdout",
     "output_type": "stream",
     "text": [
      "Too chaotic\n"
     ]
    }
   ],
   "source": [
    "q=[5,1,2,3,7,8,6,4]\n",
    "x=minimumBribes(q)"
   ]
  },
  {
   "cell_type": "code",
   "execution_count": null,
   "metadata": {},
   "outputs": [],
   "source": []
  },
  {
   "cell_type": "code",
   "execution_count": null,
   "metadata": {},
   "outputs": [],
   "source": []
  },
  {
   "cell_type": "code",
   "execution_count": null,
   "metadata": {},
   "outputs": [],
   "source": []
  }
 ],
 "metadata": {
  "kernelspec": {
   "display_name": "Python 3",
   "language": "python",
   "name": "python3"
  },
  "language_info": {
   "codemirror_mode": {
    "name": "ipython",
    "version": 3
   },
   "file_extension": ".py",
   "mimetype": "text/x-python",
   "name": "python",
   "nbconvert_exporter": "python",
   "pygments_lexer": "ipython3",
   "version": "3.7.4"
  }
 },
 "nbformat": 4,
 "nbformat_minor": 4
}
