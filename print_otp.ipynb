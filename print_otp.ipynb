{
 "cells": [
  {
   "cell_type": "code",
   "execution_count": 56,
   "metadata": {},
   "outputs": [],
   "source": [
    "def otp(q):\n",
    "    Q = list(map(int, str(q))) \n",
    "    p=0\n",
    "    new_list=[0]*(len(Q)//2)\n",
    "    for i in range(0,len(Q)):\n",
    "        if i%2!=0:\n",
    "            new_list[p]=Q[i]\n",
    "            p+=1           \n",
    "    for j in range(0,len(new_list)):\n",
    "                  new_list[j]=new_list[j]*new_list[j]\n",
    "    final_list=''.join(map(str,new_list))\n",
    "    L=list(map(int,str(final_list)))\n",
    "    output=[0]*4\n",
    "    for k in range(0,4):\n",
    "        output[k]=L[k]\n",
    "    return ''.join(map(str,output))\n",
    "        \n",
    "    \n",
    "            "
   ]
  },
  {
   "cell_type": "code",
   "execution_count": 57,
   "metadata": {},
   "outputs": [
    {
     "name": "stdout",
     "output_type": "stream",
     "text": [
      "4136\n"
     ]
    }
   ],
   "source": [
    "q=7261263\n",
    "t=otp(q)\n",
    "print(t)"
   ]
  },
  {
   "cell_type": "code",
   "execution_count": null,
   "metadata": {},
   "outputs": [],
   "source": []
  },
  {
   "cell_type": "code",
   "execution_count": null,
   "metadata": {},
   "outputs": [],
   "source": []
  }
 ],
 "metadata": {
  "kernelspec": {
   "display_name": "Python 3",
   "language": "python",
   "name": "python3"
  },
  "language_info": {
   "codemirror_mode": {
    "name": "ipython",
    "version": 3
   },
   "file_extension": ".py",
   "mimetype": "text/x-python",
   "name": "python",
   "nbconvert_exporter": "python",
   "pygments_lexer": "ipython3",
   "version": "3.7.4"
  }
 },
 "nbformat": 4,
 "nbformat_minor": 4
}
