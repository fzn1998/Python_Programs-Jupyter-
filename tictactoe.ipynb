{
 "cells": [
  {
   "cell_type": "code",
   "execution_count": null,
   "metadata": {},
   "outputs": [],
   "source": [
    "\n"
   ]
  },
  {
   "cell_type": "code",
   "execution_count": null,
   "metadata": {},
   "outputs": [],
   "source": [
    " \n",
    "    "
   ]
  },
  {
   "cell_type": "code",
   "execution_count": 1,
   "metadata": {},
   "outputs": [],
   "source": [
    "#Structure of Pragram \n",
    "class Structure():\n",
    "        play= True\n",
    "        def __init__(self,run='Y'):\n",
    "            self.run=run\n",
    "            self.a=' '\n",
    "            self.b=' '\n",
    "            self.c=' '\n",
    "            self.d=' '\n",
    "            self.e=' '\n",
    "            self.f=' '\n",
    "            self.g=' '\n",
    "            self.h=' '\n",
    "            self.i=' '\n",
    "            \n",
    "        def assign(self):\n",
    "            self.name1=input(\"Enter the name of player 1 Choosing X\")\n",
    "            self.name2=input(\"Enter the name of player 2 Choosing Y\")\n",
    "        \n",
    "        \n",
    "        def play1(self):\n",
    "            print(f\"{self.name1} Turn\")\n",
    "            y=True\n",
    "            while y:\n",
    "                x=int(input(\"Enter Between Number 1 to 9 : \"))\n",
    "                if x>9 and x<0:\n",
    "                    print(\"Invalid Choice\")\n",
    "                elif x==1 and self.a==' ':\n",
    "                    self.a='X'\n",
    "                    y=False\n",
    "                elif x==2 and self.b==' ':\n",
    "                    self.b='X'\n",
    "                    y=False\n",
    "                elif x==3 and self.c==' ':\n",
    "                    self.c='X'\n",
    "                    y=False\n",
    "                elif x==4 and self.d==' ':\n",
    "                    self.d='X'\n",
    "                    y=False\n",
    "                elif x==5 and self.e==' ':\n",
    "                    self.e='X'\n",
    "                    y=False\n",
    "                elif x==6 and self.f==' ':\n",
    "                    self.f='X'\n",
    "                    y=False\n",
    "                elif x==7 and self.g==' ':\n",
    "                    self.g='X'\n",
    "                    y=False\n",
    "                elif x==8 and self.h==' ':\n",
    "                    self.h='X'\n",
    "                    y=False\n",
    "                elif x==9 and self.i==' ':\n",
    "                    self.i='X'\n",
    "                    y=False\n",
    "                else:\n",
    "                    print(\"Overriding cannot be done\")\n",
    "\n",
    "                \n",
    "        def stru(self):\n",
    "            \n",
    "            print(f\"\\t {self.a} | {self.b} |  {self.c}\")\n",
    "            print(\"\\t------------\")\n",
    "            print(f\"\\t {self.d} | {self.e} |  {self.f} \")\n",
    "            print(\"\\t------------\")\n",
    "            print(f\"\\t {self.g} | {self.h} |  {self.i}\")\n",
    "            \n",
    "        def play2(self):\n",
    "            print(f\"{self.name2} Turn\")\n",
    "            z=True\n",
    "            while z:\n",
    "                x=int(input(\"Enter Between Number 1 to 9 : \"))\n",
    "                if x>9 and x<0:\n",
    "                    print(\"Invalid Choice\")\n",
    "                elif x==1 and self.a==' ':\n",
    "                    self.a='0'\n",
    "                    z=False\n",
    "                elif x==2 and self.b==' ':\n",
    "                    self.b='0'\n",
    "                    z=False\n",
    "                elif x==3 and self.c==' ':\n",
    "                    self.c='0'\n",
    "                    z=False\n",
    "                elif x==4 and self.d==' ':\n",
    "                    self.d='0'\n",
    "                    z=False\n",
    "                elif x==5 and self.e==' ':\n",
    "                    self.e='0'\n",
    "                    z=False\n",
    "                elif x==6 and self.f==' ':\n",
    "                    self.f='0'\n",
    "                    z=False\n",
    "                elif x==7 and self.g==' ':\n",
    "                    self.g='0'\n",
    "                    z=False\n",
    "                elif x==8 and self.h==' ':\n",
    "                    self.h='0'\n",
    "                    z=False\n",
    "                elif x==9 and self.i==' ':\n",
    "                    self.i='0'\n",
    "                    z=False\n",
    "                else:\n",
    "                    print(\"Overriding cannot be done\")\n",
    "                \n",
    "        def win1(self):\n",
    "            #for player1\n",
    "            if self.a==self.b and self.a=='X' and self.b==self.c:\n",
    "                print(f\"{self.name1} Wins\")\n",
    "                return False\n",
    "            elif self.a==self.d and self.a=='X' and self.d==self.g:\n",
    "                print(f\"{self.name1} Wins\")\n",
    "                return False\n",
    "            elif self.e==self.d and self.e=='X' and self.d==self.f:\n",
    "                print(f\"{self.name1} Wins\")\n",
    "                return False\n",
    "            elif self.g==self.h and self.g=='X' and self.f==self.i:\n",
    "                print(f\"{self.name1} Wins\")\n",
    "                return False\n",
    "            elif self.e==self.b and self.e=='X' and self.b==self.h:\n",
    "                print(f\"{self.name1} Wins\")\n",
    "                return False\n",
    "            elif self.f==self.c and self.c=='X' and self.f==self.i:\n",
    "                print(f\"{self.name1} Wins\")\n",
    "                return False\n",
    "            elif self.e==self.c and self.e=='X' and self.c==self.g:\n",
    "                print(f\"{self.name1} Wins\")\n",
    "                return False\n",
    "            elif self.a==self.e and self.a=='X' and self.e==self.i:\n",
    "                print(f\"{self.name1} Wins\")\n",
    "                return False\n",
    "            else :\n",
    "                pass\n",
    "                \n",
    "                \n",
    "        def win2(self):\n",
    "            #for player2\n",
    "            if self.a==self.b and self.a=='0' and self.b==self.c:\n",
    "                print(f\"{self.name2} Wins\")\n",
    "                return False\n",
    "            elif self.a==self.d and self.a=='0' and self.d==self.g:\n",
    "                print(f\"{self.name2} Wins\")\n",
    "                return False\n",
    "            elif self.e==self.d and self.e=='0' and self.d==self.f:\n",
    "                print(f\"{self.name2} Wins\")\n",
    "                return False\n",
    "            elif self.g==self.h and self.g=='0' and self.f==self.i:\n",
    "                print(f\"{self.name2} Wins\")\n",
    "                return False\n",
    "            elif self.e==self.b and self.e=='0' and self.b==self.h:\n",
    "                print(f\"{self.name2} Wins\")\n",
    "                return False\n",
    "            elif self.f==self.c and self.c=='0' and self.f==self.i:\n",
    "                print(f\"{self.name2} Wins\")\n",
    "                return False\n",
    "            elif self.e==self.c and self.e=='0' and self.c==self.g:\n",
    "                print(f\"{self.name2} Wins\")\n",
    "                return False\n",
    "            elif self.a==self.e and self.a=='0' and self.e==self.i:\n",
    "                print(f\"{self.name2} Wins\")\n",
    "                return False\n",
    "            else:\n",
    "                pass\n",
    "            \n",
    "s=Structure() \n",
    "    "
   ]
  },
  {
   "cell_type": "code",
   "execution_count": null,
   "metadata": {},
   "outputs": [],
   "source": []
  },
  {
   "cell_type": "code",
   "execution_count": 2,
   "metadata": {},
   "outputs": [
    {
     "name": "stdin",
     "output_type": "stream",
     "text": [
      "Enter the name of player 1 Choosing X hero\n",
      "Enter the name of player 2 Choosing Y zero\n"
     ]
    },
    {
     "name": "stdout",
     "output_type": "stream",
     "text": [
      "hero Turn\n"
     ]
    },
    {
     "name": "stdin",
     "output_type": "stream",
     "text": [
      "Enter Between Number 1 to 9 :  3\n"
     ]
    },
    {
     "name": "stdout",
     "output_type": "stream",
     "text": [
      "\t   |   |  X\n",
      "\t------------\n",
      "\t   |   |    \n",
      "\t------------\n",
      "\t   |   |   \n",
      "zero Turn\n"
     ]
    },
    {
     "name": "stdin",
     "output_type": "stream",
     "text": [
      "Enter Between Number 1 to 9 :  2\n"
     ]
    },
    {
     "name": "stdout",
     "output_type": "stream",
     "text": [
      "\t   | 0 |  X\n",
      "\t------------\n",
      "\t   |   |    \n",
      "\t------------\n",
      "\t   |   |   \n",
      "hero Turn\n"
     ]
    },
    {
     "name": "stdin",
     "output_type": "stream",
     "text": [
      "Enter Between Number 1 to 9 :  4\n"
     ]
    },
    {
     "name": "stdout",
     "output_type": "stream",
     "text": [
      "\t   | 0 |  X\n",
      "\t------------\n",
      "\t X |   |    \n",
      "\t------------\n",
      "\t   |   |   \n",
      "zero Turn\n"
     ]
    },
    {
     "name": "stdin",
     "output_type": "stream",
     "text": [
      "Enter Between Number 1 to 9 :  3\n"
     ]
    },
    {
     "name": "stdout",
     "output_type": "stream",
     "text": [
      "Overriding cannot be done\n"
     ]
    },
    {
     "name": "stdin",
     "output_type": "stream",
     "text": [
      "Enter Between Number 1 to 9 :  6\n"
     ]
    },
    {
     "name": "stdout",
     "output_type": "stream",
     "text": [
      "\t   | 0 |  X\n",
      "\t------------\n",
      "\t X |   |  0 \n",
      "\t------------\n",
      "\t   |   |   \n",
      "hero Turn\n"
     ]
    },
    {
     "name": "stdin",
     "output_type": "stream",
     "text": [
      "Enter Between Number 1 to 9 :  7\n"
     ]
    },
    {
     "name": "stdout",
     "output_type": "stream",
     "text": [
      "\t   | 0 |  X\n",
      "\t------------\n",
      "\t X |   |  0 \n",
      "\t------------\n",
      "\t X |   |   \n",
      "zero Turn\n"
     ]
    },
    {
     "name": "stdin",
     "output_type": "stream",
     "text": [
      "Enter Between Number 1 to 9 :  8\n"
     ]
    },
    {
     "name": "stdout",
     "output_type": "stream",
     "text": [
      "\t   | 0 |  X\n",
      "\t------------\n",
      "\t X |   |  0 \n",
      "\t------------\n",
      "\t X | 0 |   \n",
      "hero Turn\n"
     ]
    },
    {
     "name": "stdin",
     "output_type": "stream",
     "text": [
      "Enter Between Number 1 to 9 :  5\n"
     ]
    },
    {
     "name": "stdout",
     "output_type": "stream",
     "text": [
      "\t   | 0 |  X\n",
      "\t------------\n",
      "\t X | X |  0 \n",
      "\t------------\n",
      "\t X | 0 |   \n",
      "hero Wins\n"
     ]
    }
   ],
   "source": [
    "#Running Of program\n",
    "s.assign() \n",
    "turn=9\n",
    "p=True\n",
    "\n",
    "while p:\n",
    "    if turn>0:\n",
    "        if turn%2==1:\n",
    "            s.play1()\n",
    "            s.stru()\n",
    "            if s.win1()==False:\n",
    "                p=False\n",
    "            turn=turn-1\n",
    "        else:\n",
    "            s.play2()\n",
    "            s.stru()\n",
    "            if s.win2()==False:\n",
    "                p=False\n",
    "            turn=turn-1\n",
    "    else:\n",
    "        print('Game Tied')\n",
    "        p=False\n",
    "  \n",
    "    \n"
   ]
  },
  {
   "cell_type": "code",
   "execution_count": null,
   "metadata": {},
   "outputs": [],
   "source": [
    " \n"
   ]
  },
  {
   "cell_type": "code",
   "execution_count": null,
   "metadata": {},
   "outputs": [],
   "source": []
  }
 ],
 "metadata": {
  "kernelspec": {
   "display_name": "Python 3",
   "language": "python",
   "name": "python3"
  },
  "language_info": {
   "codemirror_mode": {
    "name": "ipython",
    "version": 3
   },
   "file_extension": ".py",
   "mimetype": "text/x-python",
   "name": "python",
   "nbconvert_exporter": "python",
   "pygments_lexer": "ipython3",
   "version": "3.7.4"
  }
 },
 "nbformat": 4,
 "nbformat_minor": 4
}
