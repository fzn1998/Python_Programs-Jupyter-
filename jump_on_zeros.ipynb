{
 "cells": [
  {
   "cell_type": "code",
   "execution_count": 151,
   "metadata": {},
   "outputs": [],
   "source": [
    "def jumpingOnClouds(c):\n",
    "    step=0\n",
    "    i=0\n",
    "    while i<len(c):\n",
    "        try:\n",
    "            if c[i]==0 and c[i+1]==1 and c[i+2]==0:\n",
    "                i=i+1\n",
    "                step+=1      \n",
    "            elif c[i]==0 and c[i+1]==0 and c[i+2]==1:\n",
    "                step+=1\n",
    "            elif c[i]==0 and c[i+1]==0 and c[i+2]==0:\n",
    "                i+=1\n",
    "                step+=1\n",
    "        except:\n",
    "            break\n",
    "        \n",
    "        i+=1    \n",
    "    try:\n",
    "        if c[i]==0 and c[i+1]==0:\n",
    "                step+=1\n",
    "    except:\n",
    "        pass\n",
    "    return step\n",
    "            "
   ]
  },
  {
   "cell_type": "code",
   "execution_count": 154,
   "metadata": {},
   "outputs": [],
   "source": [
    "c=[0,0,1,0,0,1,0]\n",
    "result=jumpingOnClouds(c)"
   ]
  },
  {
   "cell_type": "code",
   "execution_count": 155,
   "metadata": {},
   "outputs": [
    {
     "name": "stdout",
     "output_type": "stream",
     "text": [
      "4\n"
     ]
    }
   ],
   "source": [
    "print(result)"
   ]
  },
  {
   "cell_type": "code",
   "execution_count": null,
   "metadata": {},
   "outputs": [],
   "source": []
  },
  {
   "cell_type": "code",
   "execution_count": null,
   "metadata": {},
   "outputs": [],
   "source": []
  }
 ],
 "metadata": {
  "kernelspec": {
   "display_name": "Python 3",
   "language": "python",
   "name": "python3"
  },
  "language_info": {
   "codemirror_mode": {
    "name": "ipython",
    "version": 3
   },
   "file_extension": ".py",
   "mimetype": "text/x-python",
   "name": "python",
   "nbconvert_exporter": "python",
   "pygments_lexer": "ipython3",
   "version": "3.7.4"
  }
 },
 "nbformat": 4,
 "nbformat_minor": 4
}
