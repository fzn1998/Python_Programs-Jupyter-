{
 "cells": [
  {
   "cell_type": "code",
   "execution_count": 6,
   "metadata": {},
   "outputs": [
    {
     "name": "stdin",
     "output_type": "stream",
     "text": [
      " 1827882\n"
     ]
    },
    {
     "name": "stdout",
     "output_type": "stream",
     "text": [
      "5\n"
     ]
    }
   ],
   "source": [
    "def decimalToBinary(n):  \n",
    "    return bin(n).replace(\"0b\", \"\") \n",
    "def consecutive(binary):\n",
    "    B=list(binary)\n",
    "    m=[]\n",
    "    cnt=0\n",
    "    for i in range(0,len(B)):\n",
    "        if B[i]=='1':\n",
    "            cnt=cnt+1\n",
    "        if B[i]=='0':\n",
    "            cnt=0\n",
    "        m.append(cnt)\n",
    "    return max(m)\n",
    "\n",
    "if __name__ == '__main__':\n",
    "    n = int(input())\n",
    "    binary=decimalToBinary(n)\n",
    "    c=consecutive(binary)\n",
    "    print(c)\n",
    "    "
   ]
  },
  {
   "cell_type": "code",
   "execution_count": null,
   "metadata": {},
   "outputs": [],
   "source": []
  },
  {
   "cell_type": "code",
   "execution_count": null,
   "metadata": {},
   "outputs": [],
   "source": []
  }
 ],
 "metadata": {
  "kernelspec": {
   "display_name": "Python 3",
   "language": "python",
   "name": "python3"
  },
  "language_info": {
   "codemirror_mode": {
    "name": "ipython",
    "version": 3
   },
   "file_extension": ".py",
   "mimetype": "text/x-python",
   "name": "python",
   "nbconvert_exporter": "python",
   "pygments_lexer": "ipython3",
   "version": "3.7.4"
  }
 },
 "nbformat": 4,
 "nbformat_minor": 4
}
