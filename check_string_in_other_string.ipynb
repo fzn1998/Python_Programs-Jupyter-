{
 "cells": [
  {
   "cell_type": "code",
   "execution_count": 128,
   "metadata": {},
   "outputs": [],
   "source": [
    "def checkMagazine(magazine, note):\n",
    "    magazine=magazine.split()\n",
    "    note=note.split()\n",
    "    mag_len = len(magazine)\n",
    "    note_len = len(note)\n",
    "    for i in range(0,mag_len):\n",
    "            #if len(note)!=0:\n",
    "                \n",
    "                for n in range(0,note_len):\n",
    "                    if magazine[i]==note[n]:\n",
    "                        magazine[i]=None\n",
    "                        note[n]=None\n",
    "\n",
    "                        if note == [None] * note_len:\n",
    "                            return print(\"Yes\")\n",
    "                       \n",
    "    return print(\"No\")\n",
    "    "
   ]
  },
  {
   "cell_type": "code",
   "execution_count": 129,
   "metadata": {},
   "outputs": [
    {
     "name": "stdout",
     "output_type": "stream",
     "text": [
      "Yes\n",
      "None\n"
     ]
    }
   ],
   "source": [
    "magazine=\"give me one grand today night\"\n",
    "note=\"give one grand today\"\n",
    "t=checkMagazine(magazine, note)\n",
    "print(t)"
   ]
  },
  {
   "cell_type": "code",
   "execution_count": null,
   "metadata": {},
   "outputs": [],
   "source": []
  },
  {
   "cell_type": "code",
   "execution_count": null,
   "metadata": {},
   "outputs": [],
   "source": []
  }
 ],
 "metadata": {
  "kernelspec": {
   "display_name": "Python 3",
   "language": "python",
   "name": "python3"
  },
  "language_info": {
   "codemirror_mode": {
    "name": "ipython",
    "version": 3
   },
   "file_extension": ".py",
   "mimetype": "text/x-python",
   "name": "python",
   "nbconvert_exporter": "python",
   "pygments_lexer": "ipython3",
   "version": "3.7.4"
  }
 },
 "nbformat": 4,
 "nbformat_minor": 4
}
