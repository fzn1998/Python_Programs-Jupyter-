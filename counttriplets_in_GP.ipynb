{
 "cells": [
  {
   "cell_type": "code",
   "execution_count": 85,
   "metadata": {},
   "outputs": [],
   "source": [
    "def countTriplets(arr, r):\n",
    "    new_list=[]\n",
    "    count=0\n",
    "    if r!=1:\n",
    "        for i in range(0,len(arr)):\n",
    "            n=0\n",
    "            if arr[i]%r==0 or arr[i]==1:\n",
    "                while arr[i]!=1:\n",
    "                    arr[i]=arr[i]/r\n",
    "                    n+=1\n",
    "                new_list.append(n)\n",
    "                print(new_list)\n",
    "        for i in range(0,len(new_list)-2):\n",
    "            for j in range(1,len(new_list)-1):\n",
    "                for k in range(2,len(new_list)):\n",
    "                    if new_list[i]==new_list[j]-1 and new_list[j]==new_list[k]-1:\n",
    "                        count+=1\n",
    "    #else: Error case of r=1\n",
    "        #for i in range(0,len(arr)-2):\n",
    "         #   for j in range(1,len(arr)-1):\n",
    "          #      for k in range(2,len(arr)):\n",
    "           #         if arr[i]==arr[j] and arr[j]==arr[k]:\n",
    "            #            count+=1\n",
    "    return count        "
   ]
  },
  {
   "cell_type": "code",
   "execution_count": 86,
   "metadata": {},
   "outputs": [
    {
     "name": "stdout",
     "output_type": "stream",
     "text": [
      "[0]\n",
      "[0, 1]\n",
      "[0, 1, 2]\n",
      "[0, 1, 2, 2]\n",
      "[0, 1, 2, 2, 3]\n",
      "[0, 1, 2, 2, 3, 4]\n",
      "6\n"
     ]
    }
   ],
   "source": [
    "arr=[1 ,3 ,9 ,9 ,27,81]\n",
    "r=3\n",
    "ct=countTriplets(arr,r)\n",
    "print(ct)"
   ]
  },
  {
   "cell_type": "code",
   "execution_count": null,
   "metadata": {},
   "outputs": [],
   "source": []
  },
  {
   "cell_type": "code",
   "execution_count": null,
   "metadata": {},
   "outputs": [],
   "source": []
  }
 ],
 "metadata": {
  "kernelspec": {
   "display_name": "Python 3",
   "language": "python",
   "name": "python3"
  },
  "language_info": {
   "codemirror_mode": {
    "name": "ipython",
    "version": 3
   },
   "file_extension": ".py",
   "mimetype": "text/x-python",
   "name": "python",
   "nbconvert_exporter": "python",
   "pygments_lexer": "ipython3",
   "version": "3.7.4"
  }
 },
 "nbformat": 4,
 "nbformat_minor": 4
}
