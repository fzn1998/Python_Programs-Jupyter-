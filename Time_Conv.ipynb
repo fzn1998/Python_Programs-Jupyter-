{
 "cells": [
  {
   "cell_type": "code",
   "execution_count": 8,
   "metadata": {},
   "outputs": [],
   "source": [
    "def timeConversion(s):\n",
    "    S=list(s)\n",
    "    if S[8]=='A':\n",
    "        if S[1]=='2':\n",
    "            S[0]='0'\n",
    "            S[1]='0'\n",
    "    elif S[8]=='P':\n",
    "        if S[0]=='0':\n",
    "            S[0]='1'\n",
    "            S[1]=int(S[1])+2 \n",
    "        elif S[0]=='1'and S[1]!='2':\n",
    "            S[0]='2'\n",
    "            S[1]=int(S[1])+2\n",
    "    del S[8]\n",
    "    del S[8]\n",
    "\n",
    "    S=''.join(map(str,S))\n",
    "    return S"
   ]
  },
  {
   "cell_type": "code",
   "execution_count": 9,
   "metadata": {},
   "outputs": [
    {
     "name": "stdout",
     "output_type": "stream",
     "text": [
      "12:45:54\n"
     ]
    }
   ],
   "source": [
    "t='12:45:54PM'\n",
    "q=timeConversion(t)\n",
    "print(q)"
   ]
  },
  {
   "cell_type": "code",
   "execution_count": null,
   "metadata": {},
   "outputs": [],
   "source": []
  }
 ],
 "metadata": {
  "kernelspec": {
   "display_name": "Python 3",
   "language": "python",
   "name": "python3"
  },
  "language_info": {
   "codemirror_mode": {
    "name": "ipython",
    "version": 3
   },
   "file_extension": ".py",
   "mimetype": "text/x-python",
   "name": "python",
   "nbconvert_exporter": "python",
   "pygments_lexer": "ipython3",
   "version": "3.7.4"
  }
 },
 "nbformat": 4,
 "nbformat_minor": 4
}
