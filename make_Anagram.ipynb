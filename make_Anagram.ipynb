{
 "cells": [
  {
   "cell_type": "code",
   "execution_count": 75,
   "metadata": {},
   "outputs": [],
   "source": [
    "import bisect\n",
    "def makeAnagram(a, b):\n",
    "        a_s = sorted(a)\n",
    "        b_s = sorted(b)\n",
    "\n",
    "        if len(a_s) > len(b_s):\n",
    "                a_s, b_s = b_s, a_s\n",
    "\n",
    "        i = 0\n",
    "        while i < len(a_s):\n",
    "                n_i = a_s[i]\n",
    "                if n_i in b_s:\n",
    "                        j = bisect.bisect_left(b_s, n_i)\n",
    "                        del b_s[j]\n",
    "                        j = bisect.bisect_left(a_s, n_i)\n",
    "                        del a_s[j]            \n",
    "                        i -= 1\n",
    "                i += 1\n",
    "        total = len(a_s) + len(b_s)\n",
    "        return total"
   ]
  },
  {
   "cell_type": "code",
   "execution_count": 76,
   "metadata": {},
   "outputs": [
    {
     "name": "stdout",
     "output_type": "stream",
     "text": [
      "40\n"
     ]
    }
   ],
   "source": [
    "import bisect\n",
    "res=makeAnagram('bugexikjevtubidpulaelsbcqlupwetzyzdvjphn','lajoipfecfinxjspxmevqxuqyalhrsxcvgsdxxkacspbchrbvvwnvsdtsrdk')\n",
    "print(res)"
   ]
  },
  {
   "cell_type": "code",
   "execution_count": null,
   "metadata": {},
   "outputs": [],
   "source": []
  }
 ],
 "metadata": {
  "kernelspec": {
   "display_name": "Python 3",
   "language": "python",
   "name": "python3"
  },
  "language_info": {
   "codemirror_mode": {
    "name": "ipython",
    "version": 3
   },
   "file_extension": ".py",
   "mimetype": "text/x-python",
   "name": "python",
   "nbconvert_exporter": "python",
   "pygments_lexer": "ipython3",
   "version": "3.7.4"
  }
 },
 "nbformat": 4,
 "nbformat_minor": 4
}
