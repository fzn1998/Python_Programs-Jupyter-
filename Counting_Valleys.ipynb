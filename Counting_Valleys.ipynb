{
 "cells": [
  {
   "cell_type": "code",
   "execution_count": 22,
   "metadata": {},
   "outputs": [],
   "source": [
    "def countingValleys(n, s):\n",
    "    x=list(s)\n",
    "    dhill=0\n",
    "    uphill=0\n",
    "    valley=0\n",
    "    for i in x:\n",
    "        if i=='U' and dhill==0 and uphill==0:\n",
    "            uphill+=1\n",
    "        \n",
    "        elif i=='D' and uphill==0 and dhill==0:\n",
    "            dhill+=1\n",
    "            valley+=1\n",
    "        elif i=='U' and dhill==0:\n",
    "            uphill+=1\n",
    "        \n",
    "        elif i=='D' and uphill==0:\n",
    "            dhill+=1\n",
    "        elif i=='U':\n",
    "            dhill-=1\n",
    "        elif i=='D':\n",
    "            uphill-=1\n",
    "            \n",
    "    return valley\n",
    "    "
   ]
  },
  {
   "cell_type": "code",
   "execution_count": 23,
   "metadata": {},
   "outputs": [],
   "source": [
    "n=8\n",
    "s='UDDDUDUU'\n",
    "answer=countingValleys(n,s)"
   ]
  },
  {
   "cell_type": "code",
   "execution_count": 24,
   "metadata": {},
   "outputs": [
    {
     "name": "stdout",
     "output_type": "stream",
     "text": [
      "1\n"
     ]
    }
   ],
   "source": [
    "print(answer)"
   ]
  },
  {
   "cell_type": "code",
   "execution_count": null,
   "metadata": {},
   "outputs": [],
   "source": []
  }
 ],
 "metadata": {
  "kernelspec": {
   "display_name": "Python 3",
   "language": "python",
   "name": "python3"
  },
  "language_info": {
   "codemirror_mode": {
    "name": "ipython",
    "version": 3
   },
   "file_extension": ".py",
   "mimetype": "text/x-python",
   "name": "python",
   "nbconvert_exporter": "python",
   "pygments_lexer": "ipython3",
   "version": "3.7.4"
  }
 },
 "nbformat": 4,
 "nbformat_minor": 4
}
