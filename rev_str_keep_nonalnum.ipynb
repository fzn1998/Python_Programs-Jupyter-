{
 "cells": [
  {
   "cell_type": "code",
   "execution_count": 45,
   "metadata": {},
   "outputs": [],
   "source": [
    "def reverse(x):\n",
    "    listx=list(x)\n",
    "    new_list=[None]*len(listx)\n",
    "    rev_listx=listx[::-1]\n",
    "    for i in range(0,len(listx)):\n",
    "        if listx[i].isalnum()!=True:\n",
    "            new_list[i]=listx[i]      \n",
    "    i=0\n",
    "    j=0\n",
    "    while i<len(listx):        \n",
    "        if rev_listx[i].isalnum()==True:\n",
    "            if new_list[j]==None:\n",
    "                new_list[j]=rev_listx[i]\n",
    "                i+=1\n",
    "                j+=1\n",
    "            else:\n",
    "                j+=1\n",
    "        else:\n",
    "            i+=1\n",
    "    return ''.join(map(str,new_list))"
   ]
  },
  {
   "cell_type": "code",
   "execution_count": 49,
   "metadata": {},
   "outputs": [
    {
     "name": "stdout",
     "output_type": "stream",
     "text": [
      "#$jdbd5422#989335\n"
     ]
    }
   ],
   "source": [
    "s='#$53398922#45dbdj'\n",
    "t=reverse1(s)\n",
    "print(t)"
   ]
  },
  {
   "cell_type": "code",
   "execution_count": 48,
   "metadata": {},
   "outputs": [],
   "source": [
    "def reverse1(x):\n",
    "    listx=list(x)\n",
    "    rev_listx=listx[::-1]    \n",
    "    i=0\n",
    "    j=0\n",
    "    while i<len(listx):        \n",
    "        if rev_listx[i].isalnum()==True:\n",
    "            if listx[j].isalnum()==True:\n",
    "                listx[j]=rev_listx[i]\n",
    "                i+=1\n",
    "                j+=1\n",
    "            else:\n",
    "                j+=1\n",
    "        else:\n",
    "            i+=1\n",
    "    return ''.join(map(str,listx))"
   ]
  },
  {
   "cell_type": "code",
   "execution_count": null,
   "metadata": {},
   "outputs": [],
   "source": []
  }
 ],
 "metadata": {
  "kernelspec": {
   "display_name": "Python 3",
   "language": "python",
   "name": "python3"
  },
  "language_info": {
   "codemirror_mode": {
    "name": "ipython",
    "version": 3
   },
   "file_extension": ".py",
   "mimetype": "text/x-python",
   "name": "python",
   "nbconvert_exporter": "python",
   "pygments_lexer": "ipython3",
   "version": "3.7.4"
  }
 },
 "nbformat": 4,
 "nbformat_minor": 4
}
