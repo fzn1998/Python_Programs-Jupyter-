{
 "cells": [
  {
   "cell_type": "code",
   "execution_count": 1,
   "metadata": {},
   "outputs": [],
   "source": [
    "def get_first_paragraph(source_text):\n",
    "    lines = source_text.splitlines()\n",
    "    lens = [len(line) for line in lines]\n",
    "    avglen = sum(lens)/len(lens)\n",
    "    maxlen = max(lens)\n",
    "    newlines = []\n",
    "    for line_idx, line in enumerate(lines):\n",
    "        newlines.append(line)\n",
    "        try:\n",
    "            word_in_next_line = lines[line_idx+1].split()[0]\n",
    "        except IndexError:\n",
    "            break # we've reached the last line\n",
    "        if len(line) < avglen and len(line) + 1 + len(word_in_next_line) < maxlen: # 1 is for space between words\n",
    "            break\n",
    "    return '\\n'.join(newlines)"
   ]
  },
  {
   "cell_type": "code",
   "execution_count": 4,
   "metadata": {},
   "outputs": [],
   "source": [
    "s='This is a sample paragaraph. It goes on and on for several sentences. Many OF These Remarkable Sentences are Considerable in Length.It has a variety of words with different lengths, and there is not a consistent line length, although it appears to hover supercalifragilisticexpialidociously around the 70 character mark.Ideally the code should recognize that one line is much shorter than the rest, and is shorter not because of a much longer word following it which has wrapped the line, but because we have reached the end of a paragraph. This is the next paragraph, and continues onwards for more and more sentences.'\n",
    "x=get_first_paragraph(s)\n",
    "\n"
   ]
  },
  {
   "cell_type": "code",
   "execution_count": 5,
   "metadata": {},
   "outputs": [
    {
     "name": "stdout",
     "output_type": "stream",
     "text": [
      "This is a sample paragaraph. It goes on and on for several sentences. Many OF These Remarkable Sentences are Considerable in Length.It has a variety of words with different lengths, and there is not a consistent line length, although it appears to hover supercalifragilisticexpialidociously around the 70 character mark.Ideally the code should recognize that one line is much shorter than the rest, and is shorter not because of a much longer word following it which has wrapped the line, but because we have reached the end of a paragraph. This is the next paragraph, and continues onwards for more and more sentences.\n"
     ]
    }
   ],
   "source": [
    "print(x)"
   ]
  },
  {
   "cell_type": "code",
   "execution_count": null,
   "metadata": {},
   "outputs": [],
   "source": []
  }
 ],
 "metadata": {
  "kernelspec": {
   "display_name": "Python 3",
   "language": "python",
   "name": "python3"
  },
  "language_info": {
   "codemirror_mode": {
    "name": "ipython",
    "version": 3
   },
   "file_extension": ".py",
   "mimetype": "text/x-python",
   "name": "python",
   "nbconvert_exporter": "python",
   "pygments_lexer": "ipython3",
   "version": "3.7.4"
  }
 },
 "nbformat": 4,
 "nbformat_minor": 4
}
