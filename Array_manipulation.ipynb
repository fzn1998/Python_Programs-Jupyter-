{
 "cells": [
  {
   "cell_type": "code",
   "execution_count": 13,
   "metadata": {},
   "outputs": [],
   "source": [
    "def arrayManipulation(n, queries):\n",
    "    l=[0]*n\n",
    "    for i in range(0,len(queries)):\n",
    "            q=queries[i]\n",
    "            a=q[0]\n",
    "            while (a-1)!=q[1]:\n",
    "                l[a-1]+=q[2]\n",
    "                a+=1\n",
    "    return max(l)"
   ]
  },
  {
   "cell_type": "code",
   "execution_count": 14,
   "metadata": {},
   "outputs": [
    {
     "name": "stdout",
     "output_type": "stream",
     "text": [
      "[100, 200, 200, 200, 100]\n",
      "200\n"
     ]
    }
   ],
   "source": [
    "n=5\n",
    "queries=[[1,2,100],[2, 5, 100],[3,4,100]]\n",
    "x=arrayManipulation(n,queries)"
   ]
  },
  {
   "cell_type": "code",
   "execution_count": null,
   "metadata": {},
   "outputs": [],
   "source": []
  },
  {
   "cell_type": "code",
   "execution_count": null,
   "metadata": {},
   "outputs": [],
   "source": []
  }
 ],
 "metadata": {
  "kernelspec": {
   "display_name": "Python 3",
   "language": "python",
   "name": "python3"
  },
  "language_info": {
   "codemirror_mode": {
    "name": "ipython",
    "version": 3
   },
   "file_extension": ".py",
   "mimetype": "text/x-python",
   "name": "python",
   "nbconvert_exporter": "python",
   "pygments_lexer": "ipython3",
   "version": "3.7.4"
  }
 },
 "nbformat": 4,
 "nbformat_minor": 4
}
