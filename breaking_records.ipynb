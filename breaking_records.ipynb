{
 "cells": [
  {
   "cell_type": "code",
   "execution_count": 13,
   "metadata": {},
   "outputs": [],
   "source": [
    "def breakingRecords(scores):\n",
    "    count_min=0\n",
    "    count_max=0\n",
    "    maxi=scores[0]\n",
    "    low=scores[0]\n",
    "    for i in range(1,len(scores)):\n",
    "        if maxi<scores[i]:\n",
    "            count_max+=1\n",
    "            maxi=scores[i]\n",
    "        if low>scores[i]:\n",
    "            count_min+=1\n",
    "            low=scores[i]\n",
    "    print ('{} {}'.format(count_max,count_min))\n"
   ]
  },
  {
   "cell_type": "code",
   "execution_count": 14,
   "metadata": {},
   "outputs": [
    {
     "name": "stdout",
     "output_type": "stream",
     "text": [
      "2 4\n"
     ]
    }
   ],
   "source": [
    "res=breakingRecords([10,5,20,20,4,5,2,25,1])"
   ]
  },
  {
   "cell_type": "code",
   "execution_count": null,
   "metadata": {},
   "outputs": [],
   "source": []
  }
 ],
 "metadata": {
  "kernelspec": {
   "display_name": "Python 3",
   "language": "python",
   "name": "python3"
  },
  "language_info": {
   "codemirror_mode": {
    "name": "ipython",
    "version": 3
   },
   "file_extension": ".py",
   "mimetype": "text/x-python",
   "name": "python",
   "nbconvert_exporter": "python",
   "pygments_lexer": "ipython3",
   "version": "3.7.4"
  }
 },
 "nbformat": 4,
 "nbformat_minor": 4
}
