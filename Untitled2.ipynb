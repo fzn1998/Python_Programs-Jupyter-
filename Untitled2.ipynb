{
 "cells": [
  {
   "cell_type": "code",
   "execution_count": 1,
   "metadata": {},
   "outputs": [
    {
     "name": "stdin",
     "output_type": "stream",
     "text": [
      " abc\n",
      " cab\n"
     ]
    },
    {
     "name": "stdout",
     "output_type": "stream",
     "text": [
      "cab\n",
      "1\n"
     ]
    }
   ],
   "source": [
    "inp1=input()\n",
    "inp2=input()\n",
    "\n",
    "def check(inp1,inp2):\n",
    "    rstr=inp1[-1] + inp1[:-1]\n",
    "    if rstr==inp2:\n",
    "        return 1\n",
    "    else:\n",
    "        return -1\n",
    "    \n",
    "result=check(inp1,inp2)\n",
    "print(result)\n",
    "    "
   ]
  },
  {
   "cell_type": "code",
   "execution_count": null,
   "metadata": {},
   "outputs": [],
   "source": [
    "inp1=input()\n",
    "inp2=input()\n",
    "\n",
    "def check(inp1,inp2):\n",
    "    rstr=inp1[-1] + inp1[:-1]\n",
    "    print(rstr)\n",
    "    if rstr==inp2:\n",
    "        return 1\n",
    "    else:\n",
    "        return -1\n",
    "    \n",
    "result=check(inp1,inp2)\n",
    "print(result)"
   ]
  },
  {
   "cell_type": "code",
   "execution_count": null,
   "metadata": {},
   "outputs": [],
   "source": []
  }
 ],
 "metadata": {
  "kernelspec": {
   "display_name": "Python 3",
   "language": "python",
   "name": "python3"
  },
  "language_info": {
   "codemirror_mode": {
    "name": "ipython",
    "version": 3
   },
   "file_extension": ".py",
   "mimetype": "text/x-python",
   "name": "python",
   "nbconvert_exporter": "python",
   "pygments_lexer": "ipython3",
   "version": "3.7.4"
  }
 },
 "nbformat": 4,
 "nbformat_minor": 4
}
